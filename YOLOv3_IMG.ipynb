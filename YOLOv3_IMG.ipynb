{
  "nbformat": 4,
  "nbformat_minor": 0,
  "metadata": {
    "colab": {
      "provenance": []
    },
    "kernelspec": {
      "name": "python3",
      "display_name": "Python 3"
    },
    "language_info": {
      "name": "python"
    }
  },
  "cells": [
    {
      "cell_type": "code",
      "execution_count": 1,
      "metadata": {
        "colab": {
          "base_uri": "https://localhost:8080/"
        },
        "id": "Rxi_OlDT10J-",
        "outputId": "3210db1f-cc9c-4f30-c82d-19d67ea8ed8a"
      },
      "outputs": [
        {
          "output_type": "stream",
          "name": "stdout",
          "text": [
            "Requirement already satisfied: opencv-python-headless in /usr/local/lib/python3.10/dist-packages (4.10.0.82)\n",
            "Requirement already satisfied: numpy in /usr/local/lib/python3.10/dist-packages (1.25.2)\n",
            "Requirement already satisfied: matplotlib in /usr/local/lib/python3.10/dist-packages (3.7.1)\n",
            "Requirement already satisfied: contourpy>=1.0.1 in /usr/local/lib/python3.10/dist-packages (from matplotlib) (1.2.1)\n",
            "Requirement already satisfied: cycler>=0.10 in /usr/local/lib/python3.10/dist-packages (from matplotlib) (0.12.1)\n",
            "Requirement already satisfied: fonttools>=4.22.0 in /usr/local/lib/python3.10/dist-packages (from matplotlib) (4.53.0)\n",
            "Requirement already satisfied: kiwisolver>=1.0.1 in /usr/local/lib/python3.10/dist-packages (from matplotlib) (1.4.5)\n",
            "Requirement already satisfied: packaging>=20.0 in /usr/local/lib/python3.10/dist-packages (from matplotlib) (24.1)\n",
            "Requirement already satisfied: pillow>=6.2.0 in /usr/local/lib/python3.10/dist-packages (from matplotlib) (9.4.0)\n",
            "Requirement already satisfied: pyparsing>=2.3.1 in /usr/local/lib/python3.10/dist-packages (from matplotlib) (3.1.2)\n",
            "Requirement already satisfied: python-dateutil>=2.7 in /usr/local/lib/python3.10/dist-packages (from matplotlib) (2.8.2)\n",
            "Requirement already satisfied: six>=1.5 in /usr/local/lib/python3.10/dist-packages (from python-dateutil>=2.7->matplotlib) (1.16.0)\n"
          ]
        }
      ],
      "source": [
        "!pip install opencv-python-headless numpy matplotlib"
      ]
    },
    {
      "cell_type": "markdown",
      "source": [
        "# Import Libraries"
      ],
      "metadata": {
        "id": "fB9rZFOP2rO-"
      }
    },
    {
      "cell_type": "code",
      "source": [
        "import cv2\n",
        "import numpy as np\n",
        "import matplotlib.pyplot as plt\n",
        "from google.colab.patches import cv2_imshow"
      ],
      "metadata": {
        "id": "75lFUym52D0f"
      },
      "execution_count": 1,
      "outputs": []
    },
    {
      "cell_type": "code",
      "source": [],
      "metadata": {
        "id": "Keejg4F12F03"
      },
      "execution_count": null,
      "outputs": []
    },
    {
      "cell_type": "markdown",
      "source": [
        "# Load YOLOv3 Model"
      ],
      "metadata": {
        "id": "LCBxvXiP2n5H"
      }
    },
    {
      "cell_type": "code",
      "source": [
        "weights_path = '/content/yolov3-helmet.weights'\n",
        "config_path = '/content/yolov3-helmet.cfg'\n",
        "names_path = '/content/helmet.names'\n",
        "\n",
        "# Load YOLO\n",
        "net = cv2.dnn.readNet(weights_path, config_path)\n",
        "\n",
        "# Load names\n",
        "with open(names_path, 'r') as f:\n",
        "    classes = [line.strip() for line in f.readlines()]\n",
        "\n",
        "layer_names = net.getLayerNames()\n",
        "output_layers = [layer_names[i - 1] for i in net.getUnconnectedOutLayers()]\n",
        "\n",
        "print(\"Model loaded successfully!\")"
      ],
      "metadata": {
        "id": "V1AIxbB62HDO"
      },
      "execution_count": null,
      "outputs": []
    },
    {
      "cell_type": "markdown",
      "source": [
        "# Function to load an image\n"
      ],
      "metadata": {
        "id": "oC0x67C22MN-"
      }
    },
    {
      "cell_type": "code",
      "source": [
        "def load_image(img_path):\n",
        "    img = cv2.imread(img_path)\n",
        "    if img is None:\n",
        "        raise FileNotFoundError(f\"Image not found at {img_path}\")\n",
        "    height, width, channels = img.shape\n",
        "    return img, height, width"
      ],
      "metadata": {
        "id": "aPya7k4M2H9n"
      },
      "execution_count": 2,
      "outputs": []
    },
    {
      "cell_type": "markdown",
      "source": [
        "# Function to detect helmets"
      ],
      "metadata": {
        "id": "kF-I4rop2Q7W"
      }
    },
    {
      "cell_type": "code",
      "source": [
        "def detect_helmets(img):\n",
        "    blob = cv2.dnn.blobFromImage(img, 0.00392, (416, 416), (0, 0, 0), True, crop=False)\n",
        "    net.setInput(blob)\n",
        "    outs = net.forward(output_layers)\n",
        "    return outs"
      ],
      "metadata": {
        "id": "1v2d5ZNJ2On-"
      },
      "execution_count": 3,
      "outputs": []
    },
    {
      "cell_type": "markdown",
      "source": [
        "# Function to draw labels"
      ],
      "metadata": {
        "id": "Pj-_2QgF2WJm"
      }
    },
    {
      "cell_type": "code",
      "source": [
        "def draw_labels(img, class_ids, confidences, boxes, classes):\n",
        "    indexes = cv2.dnn.NMSBoxes(boxes, confidences, 0.5, 0.4)\n",
        "    font = cv2.FONT_HERSHEY_PLAIN\n",
        "    for i in range(len(boxes)):\n",
        "        if i in indexes:\n",
        "            x, y, w, h = boxes[i]\n",
        "            label = str(classes[class_ids[i]])\n",
        "            confidence = confidences[i]\n",
        "            color = (0, 255, 0) if label == 'helmet' else (0, 0, 255)\n",
        "            cv2.rectangle(img, (x, y), (x + w, y + h), color, 2)\n",
        "            cv2.putText(img, f\"{label} {confidence:.2f}\", (x, y - 10), font, 1, color, 2)\n",
        "    return img"
      ],
      "metadata": {
        "id": "YrGRxjpf2OLW"
      },
      "execution_count": null,
      "outputs": []
    },
    {
      "cell_type": "markdown",
      "source": [
        "# Function to get bounding boxes"
      ],
      "metadata": {
        "id": "wnmjwCpf2dZ2"
      }
    },
    {
      "cell_type": "code",
      "source": [
        "def get_boxes(outs, height, width, conf_threshold=0.5):\n",
        "    class_ids, confidences, boxes = [], [], []\n",
        "    for out in outs:\n",
        "        for detection in out:\n",
        "            scores = detection[5:]\n",
        "            class_id = np.argmax(scores)\n",
        "            confidence = scores[class_id]\n",
        "            if confidence > conf_threshold:\n",
        "                center_x = int(detection[0] * width)\n",
        "                center_y = int(detection[1] * height)\n",
        "                w = int(detection[2] * width)\n",
        "                h = int(detection[3] * height)\n",
        "                x = int(center_x - w / 2)\n",
        "                y = int(center_y - h / 2)\n",
        "                boxes.append([x, y, w, h])\n",
        "                confidences.append(float(confidence))\n",
        "                class_ids.append(class_id)\n",
        "    return class_ids, confidences, boxes"
      ],
      "metadata": {
        "id": "1z6hEf2C2d4N"
      },
      "execution_count": null,
      "outputs": []
    },
    {
      "cell_type": "code",
      "source": [
        "# Path to the new image\n",
        "img_path = '/content/helmet=img.jpg'  # Correct path to the uploaded image\n",
        "\n",
        "# Load and Process the New Image\n",
        "img, height, width = load_image(img_path)\n",
        "outs = detect_helmets(img)\n",
        "class_ids, confidences, boxes = get_boxes(outs, height, width)\n",
        "img = draw_labels(img, class_ids, confidences, boxes, classes)\n",
        "\n",
        "# Display the Image\n",
        "plt.imshow(cv2.cvtColor(img, cv2.COLOR_BGR2RGB))\n",
        "plt.show()\n"
      ],
      "metadata": {
        "id": "-d_L55-s2hM0"
      },
      "execution_count": null,
      "outputs": []
    }
  ]
}